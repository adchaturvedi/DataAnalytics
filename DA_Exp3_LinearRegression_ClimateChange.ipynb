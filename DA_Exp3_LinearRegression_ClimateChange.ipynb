{
  "nbformat": 4,
  "nbformat_minor": 0,
  "metadata": {
    "colab": {
      "provenance": [],
      "include_colab_link": true
    },
    "kernelspec": {
      "name": "python3",
      "display_name": "Python 3"
    },
    "language_info": {
      "name": "python"
    }
  },
  "cells": [
    {
      "cell_type": "markdown",
      "metadata": {
        "id": "view-in-github",
        "colab_type": "text"
      },
      "source": [
        "<a href=\"https://colab.research.google.com/github/adchaturvedi/DataAnalytics/blob/main/DA_Exp3_LinearRegression_ClimateChange.ipynb\" target=\"_parent\"><img src=\"https://colab.research.google.com/assets/colab-badge.svg\" alt=\"Open In Colab\"/></a>"
      ]
    },
    {
      "cell_type": "markdown",
      "source": [
        "Name: Aditi Chaturvedi\n",
        "\n",
        "UID:2019120011\n",
        "\n",
        "\n",
        "Aim:Building Linear Regression model for given dataset- climate_change.csv"
      ],
      "metadata": {
        "id": "61L7gyjf4xht"
      }
    },
    {
      "cell_type": "code",
      "source": [
        "#Importing the librariesimport pandas as pd\n",
        "import numpy as np\n",
        "import matplotlib.pyplot as plt\n",
        "import seaborn as sns\n",
        "import pandas as pd"
      ],
      "metadata": {
        "id": "yTXN_teo-28s"
      },
      "execution_count": 19,
      "outputs": []
    },
    {
      "cell_type": "code",
      "source": [
        "#Reading the dataset\n",
        "dataset = pd.read_csv(\"climate_change.csv\")"
      ],
      "metadata": {
        "id": "fsYNghXR-2_n"
      },
      "execution_count": 20,
      "outputs": []
    },
    {
      "cell_type": "code",
      "source": [
        "dataset.head()"
      ],
      "metadata": {
        "colab": {
          "base_uri": "https://localhost:8080/",
          "height": 206
        },
        "id": "SPL9n_Iu-3Ct",
        "outputId": "38d34a68-706c-4312-8347-6904b825442c"
      },
      "execution_count": 21,
      "outputs": [
        {
          "output_type": "execute_result",
          "data": {
            "text/plain": [
              "   Year  Month    MEI     CO2      CH4      N2O   CFC-11   CFC-12        TSI  \\\n",
              "0  1983      5  2.556  345.96  1638.59  303.677  191.324  350.113  1366.1024   \n",
              "1  1983      6  2.167  345.52  1633.71  303.746  192.057  351.848  1366.1208   \n",
              "2  1983      7  1.741  344.15  1633.22  303.795  192.818  353.725  1366.2850   \n",
              "3  1983      8  1.130  342.25  1631.35  303.839  193.602  355.633  1366.4202   \n",
              "4  1983      9  0.428  340.17  1648.40  303.901  194.392  357.465  1366.2335   \n",
              "\n",
              "   Aerosols   Temp  \n",
              "0    0.0863  0.109  \n",
              "1    0.0794  0.118  \n",
              "2    0.0731  0.137  \n",
              "3    0.0673  0.176  \n",
              "4    0.0619  0.149  "
            ],
            "text/html": [
              "\n",
              "  <div id=\"df-e41f2b03-0847-4417-b7fe-847f35fa1390\">\n",
              "    <div class=\"colab-df-container\">\n",
              "      <div>\n",
              "<style scoped>\n",
              "    .dataframe tbody tr th:only-of-type {\n",
              "        vertical-align: middle;\n",
              "    }\n",
              "\n",
              "    .dataframe tbody tr th {\n",
              "        vertical-align: top;\n",
              "    }\n",
              "\n",
              "    .dataframe thead th {\n",
              "        text-align: right;\n",
              "    }\n",
              "</style>\n",
              "<table border=\"1\" class=\"dataframe\">\n",
              "  <thead>\n",
              "    <tr style=\"text-align: right;\">\n",
              "      <th></th>\n",
              "      <th>Year</th>\n",
              "      <th>Month</th>\n",
              "      <th>MEI</th>\n",
              "      <th>CO2</th>\n",
              "      <th>CH4</th>\n",
              "      <th>N2O</th>\n",
              "      <th>CFC-11</th>\n",
              "      <th>CFC-12</th>\n",
              "      <th>TSI</th>\n",
              "      <th>Aerosols</th>\n",
              "      <th>Temp</th>\n",
              "    </tr>\n",
              "  </thead>\n",
              "  <tbody>\n",
              "    <tr>\n",
              "      <th>0</th>\n",
              "      <td>1983</td>\n",
              "      <td>5</td>\n",
              "      <td>2.556</td>\n",
              "      <td>345.96</td>\n",
              "      <td>1638.59</td>\n",
              "      <td>303.677</td>\n",
              "      <td>191.324</td>\n",
              "      <td>350.113</td>\n",
              "      <td>1366.1024</td>\n",
              "      <td>0.0863</td>\n",
              "      <td>0.109</td>\n",
              "    </tr>\n",
              "    <tr>\n",
              "      <th>1</th>\n",
              "      <td>1983</td>\n",
              "      <td>6</td>\n",
              "      <td>2.167</td>\n",
              "      <td>345.52</td>\n",
              "      <td>1633.71</td>\n",
              "      <td>303.746</td>\n",
              "      <td>192.057</td>\n",
              "      <td>351.848</td>\n",
              "      <td>1366.1208</td>\n",
              "      <td>0.0794</td>\n",
              "      <td>0.118</td>\n",
              "    </tr>\n",
              "    <tr>\n",
              "      <th>2</th>\n",
              "      <td>1983</td>\n",
              "      <td>7</td>\n",
              "      <td>1.741</td>\n",
              "      <td>344.15</td>\n",
              "      <td>1633.22</td>\n",
              "      <td>303.795</td>\n",
              "      <td>192.818</td>\n",
              "      <td>353.725</td>\n",
              "      <td>1366.2850</td>\n",
              "      <td>0.0731</td>\n",
              "      <td>0.137</td>\n",
              "    </tr>\n",
              "    <tr>\n",
              "      <th>3</th>\n",
              "      <td>1983</td>\n",
              "      <td>8</td>\n",
              "      <td>1.130</td>\n",
              "      <td>342.25</td>\n",
              "      <td>1631.35</td>\n",
              "      <td>303.839</td>\n",
              "      <td>193.602</td>\n",
              "      <td>355.633</td>\n",
              "      <td>1366.4202</td>\n",
              "      <td>0.0673</td>\n",
              "      <td>0.176</td>\n",
              "    </tr>\n",
              "    <tr>\n",
              "      <th>4</th>\n",
              "      <td>1983</td>\n",
              "      <td>9</td>\n",
              "      <td>0.428</td>\n",
              "      <td>340.17</td>\n",
              "      <td>1648.40</td>\n",
              "      <td>303.901</td>\n",
              "      <td>194.392</td>\n",
              "      <td>357.465</td>\n",
              "      <td>1366.2335</td>\n",
              "      <td>0.0619</td>\n",
              "      <td>0.149</td>\n",
              "    </tr>\n",
              "  </tbody>\n",
              "</table>\n",
              "</div>\n",
              "      <button class=\"colab-df-convert\" onclick=\"convertToInteractive('df-e41f2b03-0847-4417-b7fe-847f35fa1390')\"\n",
              "              title=\"Convert this dataframe to an interactive table.\"\n",
              "              style=\"display:none;\">\n",
              "        \n",
              "  <svg xmlns=\"http://www.w3.org/2000/svg\" height=\"24px\"viewBox=\"0 0 24 24\"\n",
              "       width=\"24px\">\n",
              "    <path d=\"M0 0h24v24H0V0z\" fill=\"none\"/>\n",
              "    <path d=\"M18.56 5.44l.94 2.06.94-2.06 2.06-.94-2.06-.94-.94-2.06-.94 2.06-2.06.94zm-11 1L8.5 8.5l.94-2.06 2.06-.94-2.06-.94L8.5 2.5l-.94 2.06-2.06.94zm10 10l.94 2.06.94-2.06 2.06-.94-2.06-.94-.94-2.06-.94 2.06-2.06.94z\"/><path d=\"M17.41 7.96l-1.37-1.37c-.4-.4-.92-.59-1.43-.59-.52 0-1.04.2-1.43.59L10.3 9.45l-7.72 7.72c-.78.78-.78 2.05 0 2.83L4 21.41c.39.39.9.59 1.41.59.51 0 1.02-.2 1.41-.59l7.78-7.78 2.81-2.81c.8-.78.8-2.07 0-2.86zM5.41 20L4 18.59l7.72-7.72 1.47 1.35L5.41 20z\"/>\n",
              "  </svg>\n",
              "      </button>\n",
              "      \n",
              "  <style>\n",
              "    .colab-df-container {\n",
              "      display:flex;\n",
              "      flex-wrap:wrap;\n",
              "      gap: 12px;\n",
              "    }\n",
              "\n",
              "    .colab-df-convert {\n",
              "      background-color: #E8F0FE;\n",
              "      border: none;\n",
              "      border-radius: 50%;\n",
              "      cursor: pointer;\n",
              "      display: none;\n",
              "      fill: #1967D2;\n",
              "      height: 32px;\n",
              "      padding: 0 0 0 0;\n",
              "      width: 32px;\n",
              "    }\n",
              "\n",
              "    .colab-df-convert:hover {\n",
              "      background-color: #E2EBFA;\n",
              "      box-shadow: 0px 1px 2px rgba(60, 64, 67, 0.3), 0px 1px 3px 1px rgba(60, 64, 67, 0.15);\n",
              "      fill: #174EA6;\n",
              "    }\n",
              "\n",
              "    [theme=dark] .colab-df-convert {\n",
              "      background-color: #3B4455;\n",
              "      fill: #D2E3FC;\n",
              "    }\n",
              "\n",
              "    [theme=dark] .colab-df-convert:hover {\n",
              "      background-color: #434B5C;\n",
              "      box-shadow: 0px 1px 3px 1px rgba(0, 0, 0, 0.15);\n",
              "      filter: drop-shadow(0px 1px 2px rgba(0, 0, 0, 0.3));\n",
              "      fill: #FFFFFF;\n",
              "    }\n",
              "  </style>\n",
              "\n",
              "      <script>\n",
              "        const buttonEl =\n",
              "          document.querySelector('#df-e41f2b03-0847-4417-b7fe-847f35fa1390 button.colab-df-convert');\n",
              "        buttonEl.style.display =\n",
              "          google.colab.kernel.accessAllowed ? 'block' : 'none';\n",
              "\n",
              "        async function convertToInteractive(key) {\n",
              "          const element = document.querySelector('#df-e41f2b03-0847-4417-b7fe-847f35fa1390');\n",
              "          const dataTable =\n",
              "            await google.colab.kernel.invokeFunction('convertToInteractive',\n",
              "                                                     [key], {});\n",
              "          if (!dataTable) return;\n",
              "\n",
              "          const docLinkHtml = 'Like what you see? Visit the ' +\n",
              "            '<a target=\"_blank\" href=https://colab.research.google.com/notebooks/data_table.ipynb>data table notebook</a>'\n",
              "            + ' to learn more about interactive tables.';\n",
              "          element.innerHTML = '';\n",
              "          dataTable['output_type'] = 'display_data';\n",
              "          await google.colab.output.renderOutput(dataTable, element);\n",
              "          const docLink = document.createElement('div');\n",
              "          docLink.innerHTML = docLinkHtml;\n",
              "          element.appendChild(docLink);\n",
              "        }\n",
              "      </script>\n",
              "    </div>\n",
              "  </div>\n",
              "  "
            ]
          },
          "metadata": {},
          "execution_count": 21
        }
      ]
    },
    {
      "cell_type": "code",
      "source": [
        "dataset.columns"
      ],
      "metadata": {
        "colab": {
          "base_uri": "https://localhost:8080/"
        },
        "id": "srM9yTLj_3W9",
        "outputId": "c2a82dd0-4637-4094-a7d6-266b7aed1e25"
      },
      "execution_count": 22,
      "outputs": [
        {
          "output_type": "execute_result",
          "data": {
            "text/plain": [
              "Index(['Year', 'Month', 'MEI', 'CO2', 'CH4', 'N2O', 'CFC-11', 'CFC-12', 'TSI',\n",
              "       'Aerosols', 'Temp'],\n",
              "      dtype='object')"
            ]
          },
          "metadata": {},
          "execution_count": 22
        }
      ]
    },
    {
      "cell_type": "code",
      "source": [
        "Q1 = dataset.quantile(0.25)\n",
        "Q3 = dataset.quantile(0.75)\n",
        "IQR = Q3 - Q1\n",
        "#print(IQR)\n",
        "dataset = dataset[~((dataset < (Q1 - 1.5 * IQR)) |(dataset > (Q3 + 1.5 * IQR))).any(axis=1)]"
      ],
      "metadata": {
        "id": "HL40Byg-Ft6N"
      },
      "execution_count": 23,
      "outputs": []
    },
    {
      "cell_type": "code",
      "source": [
        "import statsmodels.api as sm\n",
        "x = dataset[['MEI', 'CO2', 'CH4', 'N2O', 'CFC-11', 'CFC-12', 'TSI','Aerosols']]\n",
        "y = dataset[['Temp']]\n",
        "x2 = sm.add_constant(x)\n",
        "est = sm.OLS(y,x2)\n",
        "est2 = est.fit()\n",
        "print(est2.summary())"
      ],
      "metadata": {
        "colab": {
          "base_uri": "https://localhost:8080/"
        },
        "id": "RxWt8f7C-3F3",
        "outputId": "59454c6c-30e6-4553-ed2b-c7cd9879a465"
      },
      "execution_count": 24,
      "outputs": [
        {
          "output_type": "stream",
          "name": "stdout",
          "text": [
            "                            OLS Regression Results                            \n",
            "==============================================================================\n",
            "Dep. Variable:                   Temp   R-squared:                       0.703\n",
            "Model:                            OLS   Adj. R-squared:                  0.692\n",
            "Method:                 Least Squares   F-statistic:                     69.11\n",
            "Date:                Tue, 22 Nov 2022   Prob (F-statistic):           2.36e-57\n",
            "Time:                        09:27:09   Log-Likelihood:                 251.36\n",
            "No. Observations:                 243   AIC:                            -484.7\n",
            "Df Residuals:                     234   BIC:                            -453.3\n",
            "Df Model:                           8                                         \n",
            "Covariance Type:            nonrobust                                         \n",
            "==============================================================================\n",
            "                 coef    std err          t      P>|t|      [0.025      0.975]\n",
            "------------------------------------------------------------------------------\n",
            "const        -60.8378     23.736     -2.563      0.011    -107.600     -14.075\n",
            "MEI            0.0665      0.007      9.650      0.000       0.053       0.080\n",
            "CO2            0.0033      0.002      1.389      0.166      -0.001       0.008\n",
            "CH4           -0.0005      0.001     -0.895      0.372      -0.002       0.001\n",
            "N2O           -0.0033      0.010     -0.319      0.750      -0.023       0.017\n",
            "CFC-11        -0.0032      0.002     -1.319      0.188      -0.008       0.002\n",
            "CFC-12         0.0027      0.001      2.173      0.031       0.000       0.005\n",
            "TSI            0.0449      0.018      2.532      0.012       0.010       0.080\n",
            "Aerosols      -8.2339      2.042     -4.032      0.000     -12.257      -4.211\n",
            "==============================================================================\n",
            "Omnibus:                        3.269   Durbin-Watson:                   1.015\n",
            "Prob(Omnibus):                  0.195   Jarque-Bera (JB):                2.996\n",
            "Skew:                           0.194   Prob(JB):                        0.224\n",
            "Kurtosis:                       3.381   Cond. No.                     9.94e+06\n",
            "==============================================================================\n",
            "\n",
            "Notes:\n",
            "[1] Standard Errors assume that the covariance matrix of the errors is correctly specified.\n",
            "[2] The condition number is large, 9.94e+06. This might indicate that there are\n",
            "strong multicollinearity or other numerical problems.\n"
          ]
        },
        {
          "output_type": "stream",
          "name": "stderr",
          "text": [
            "/usr/local/lib/python3.7/dist-packages/statsmodels/tsa/tsatools.py:142: FutureWarning: In a future version of pandas all arguments of concat except for the argument 'objs' will be keyword-only\n",
            "  x = pd.concat(x[::order], 1)\n"
          ]
        }
      ]
    },
    {
      "cell_type": "markdown",
      "source": [
        "Spliting the data into a training set, consisting of all the observations up to and including 2006, and a testing set consisting of the remaining years"
      ],
      "metadata": {
        "id": "ljtDIEyb5IYD"
      }
    },
    {
      "cell_type": "code",
      "source": [
        "df_train = dataset[dataset.iloc[:,0]<=2006]  \n",
        "df_train.head()"
      ],
      "metadata": {
        "colab": {
          "base_uri": "https://localhost:8080/",
          "height": 206
        },
        "id": "u8D7j2JSAZHx",
        "outputId": "b5ec123b-186c-49aa-9a59-f12d43728383"
      },
      "execution_count": 25,
      "outputs": [
        {
          "output_type": "execute_result",
          "data": {
            "text/plain": [
              "    Year  Month    MEI     CO2      CH4      N2O   CFC-11   CFC-12        TSI  \\\n",
              "29  1985     10 -0.140  343.08  1681.56  305.395  215.327  390.676  1365.5269   \n",
              "30  1985     11 -0.050  344.40  1680.68  305.530  216.282  392.714  1365.6289   \n",
              "31  1985     12 -0.293  345.82  1677.99  305.653  217.326  394.539  1365.6794   \n",
              "32  1986      1 -0.307  346.54  1675.82  305.775  218.382  396.082  1365.6746   \n",
              "33  1986      2 -0.191  347.13  1666.83  305.911  219.379  397.345  1365.5475   \n",
              "\n",
              "    Aerosols   Temp  \n",
              "29    0.0101 -0.008  \n",
              "30    0.0097 -0.093  \n",
              "31    0.0122 -0.002  \n",
              "32    0.0146  0.121  \n",
              "33    0.0158  0.065  "
            ],
            "text/html": [
              "\n",
              "  <div id=\"df-b2f99186-e57b-4b8f-bf1f-98280157fa87\">\n",
              "    <div class=\"colab-df-container\">\n",
              "      <div>\n",
              "<style scoped>\n",
              "    .dataframe tbody tr th:only-of-type {\n",
              "        vertical-align: middle;\n",
              "    }\n",
              "\n",
              "    .dataframe tbody tr th {\n",
              "        vertical-align: top;\n",
              "    }\n",
              "\n",
              "    .dataframe thead th {\n",
              "        text-align: right;\n",
              "    }\n",
              "</style>\n",
              "<table border=\"1\" class=\"dataframe\">\n",
              "  <thead>\n",
              "    <tr style=\"text-align: right;\">\n",
              "      <th></th>\n",
              "      <th>Year</th>\n",
              "      <th>Month</th>\n",
              "      <th>MEI</th>\n",
              "      <th>CO2</th>\n",
              "      <th>CH4</th>\n",
              "      <th>N2O</th>\n",
              "      <th>CFC-11</th>\n",
              "      <th>CFC-12</th>\n",
              "      <th>TSI</th>\n",
              "      <th>Aerosols</th>\n",
              "      <th>Temp</th>\n",
              "    </tr>\n",
              "  </thead>\n",
              "  <tbody>\n",
              "    <tr>\n",
              "      <th>29</th>\n",
              "      <td>1985</td>\n",
              "      <td>10</td>\n",
              "      <td>-0.140</td>\n",
              "      <td>343.08</td>\n",
              "      <td>1681.56</td>\n",
              "      <td>305.395</td>\n",
              "      <td>215.327</td>\n",
              "      <td>390.676</td>\n",
              "      <td>1365.5269</td>\n",
              "      <td>0.0101</td>\n",
              "      <td>-0.008</td>\n",
              "    </tr>\n",
              "    <tr>\n",
              "      <th>30</th>\n",
              "      <td>1985</td>\n",
              "      <td>11</td>\n",
              "      <td>-0.050</td>\n",
              "      <td>344.40</td>\n",
              "      <td>1680.68</td>\n",
              "      <td>305.530</td>\n",
              "      <td>216.282</td>\n",
              "      <td>392.714</td>\n",
              "      <td>1365.6289</td>\n",
              "      <td>0.0097</td>\n",
              "      <td>-0.093</td>\n",
              "    </tr>\n",
              "    <tr>\n",
              "      <th>31</th>\n",
              "      <td>1985</td>\n",
              "      <td>12</td>\n",
              "      <td>-0.293</td>\n",
              "      <td>345.82</td>\n",
              "      <td>1677.99</td>\n",
              "      <td>305.653</td>\n",
              "      <td>217.326</td>\n",
              "      <td>394.539</td>\n",
              "      <td>1365.6794</td>\n",
              "      <td>0.0122</td>\n",
              "      <td>-0.002</td>\n",
              "    </tr>\n",
              "    <tr>\n",
              "      <th>32</th>\n",
              "      <td>1986</td>\n",
              "      <td>1</td>\n",
              "      <td>-0.307</td>\n",
              "      <td>346.54</td>\n",
              "      <td>1675.82</td>\n",
              "      <td>305.775</td>\n",
              "      <td>218.382</td>\n",
              "      <td>396.082</td>\n",
              "      <td>1365.6746</td>\n",
              "      <td>0.0146</td>\n",
              "      <td>0.121</td>\n",
              "    </tr>\n",
              "    <tr>\n",
              "      <th>33</th>\n",
              "      <td>1986</td>\n",
              "      <td>2</td>\n",
              "      <td>-0.191</td>\n",
              "      <td>347.13</td>\n",
              "      <td>1666.83</td>\n",
              "      <td>305.911</td>\n",
              "      <td>219.379</td>\n",
              "      <td>397.345</td>\n",
              "      <td>1365.5475</td>\n",
              "      <td>0.0158</td>\n",
              "      <td>0.065</td>\n",
              "    </tr>\n",
              "  </tbody>\n",
              "</table>\n",
              "</div>\n",
              "      <button class=\"colab-df-convert\" onclick=\"convertToInteractive('df-b2f99186-e57b-4b8f-bf1f-98280157fa87')\"\n",
              "              title=\"Convert this dataframe to an interactive table.\"\n",
              "              style=\"display:none;\">\n",
              "        \n",
              "  <svg xmlns=\"http://www.w3.org/2000/svg\" height=\"24px\"viewBox=\"0 0 24 24\"\n",
              "       width=\"24px\">\n",
              "    <path d=\"M0 0h24v24H0V0z\" fill=\"none\"/>\n",
              "    <path d=\"M18.56 5.44l.94 2.06.94-2.06 2.06-.94-2.06-.94-.94-2.06-.94 2.06-2.06.94zm-11 1L8.5 8.5l.94-2.06 2.06-.94-2.06-.94L8.5 2.5l-.94 2.06-2.06.94zm10 10l.94 2.06.94-2.06 2.06-.94-2.06-.94-.94-2.06-.94 2.06-2.06.94z\"/><path d=\"M17.41 7.96l-1.37-1.37c-.4-.4-.92-.59-1.43-.59-.52 0-1.04.2-1.43.59L10.3 9.45l-7.72 7.72c-.78.78-.78 2.05 0 2.83L4 21.41c.39.39.9.59 1.41.59.51 0 1.02-.2 1.41-.59l7.78-7.78 2.81-2.81c.8-.78.8-2.07 0-2.86zM5.41 20L4 18.59l7.72-7.72 1.47 1.35L5.41 20z\"/>\n",
              "  </svg>\n",
              "      </button>\n",
              "      \n",
              "  <style>\n",
              "    .colab-df-container {\n",
              "      display:flex;\n",
              "      flex-wrap:wrap;\n",
              "      gap: 12px;\n",
              "    }\n",
              "\n",
              "    .colab-df-convert {\n",
              "      background-color: #E8F0FE;\n",
              "      border: none;\n",
              "      border-radius: 50%;\n",
              "      cursor: pointer;\n",
              "      display: none;\n",
              "      fill: #1967D2;\n",
              "      height: 32px;\n",
              "      padding: 0 0 0 0;\n",
              "      width: 32px;\n",
              "    }\n",
              "\n",
              "    .colab-df-convert:hover {\n",
              "      background-color: #E2EBFA;\n",
              "      box-shadow: 0px 1px 2px rgba(60, 64, 67, 0.3), 0px 1px 3px 1px rgba(60, 64, 67, 0.15);\n",
              "      fill: #174EA6;\n",
              "    }\n",
              "\n",
              "    [theme=dark] .colab-df-convert {\n",
              "      background-color: #3B4455;\n",
              "      fill: #D2E3FC;\n",
              "    }\n",
              "\n",
              "    [theme=dark] .colab-df-convert:hover {\n",
              "      background-color: #434B5C;\n",
              "      box-shadow: 0px 1px 3px 1px rgba(0, 0, 0, 0.15);\n",
              "      filter: drop-shadow(0px 1px 2px rgba(0, 0, 0, 0.3));\n",
              "      fill: #FFFFFF;\n",
              "    }\n",
              "  </style>\n",
              "\n",
              "      <script>\n",
              "        const buttonEl =\n",
              "          document.querySelector('#df-b2f99186-e57b-4b8f-bf1f-98280157fa87 button.colab-df-convert');\n",
              "        buttonEl.style.display =\n",
              "          google.colab.kernel.accessAllowed ? 'block' : 'none';\n",
              "\n",
              "        async function convertToInteractive(key) {\n",
              "          const element = document.querySelector('#df-b2f99186-e57b-4b8f-bf1f-98280157fa87');\n",
              "          const dataTable =\n",
              "            await google.colab.kernel.invokeFunction('convertToInteractive',\n",
              "                                                     [key], {});\n",
              "          if (!dataTable) return;\n",
              "\n",
              "          const docLinkHtml = 'Like what you see? Visit the ' +\n",
              "            '<a target=\"_blank\" href=https://colab.research.google.com/notebooks/data_table.ipynb>data table notebook</a>'\n",
              "            + ' to learn more about interactive tables.';\n",
              "          element.innerHTML = '';\n",
              "          dataTable['output_type'] = 'display_data';\n",
              "          await google.colab.output.renderOutput(dataTable, element);\n",
              "          const docLink = document.createElement('div');\n",
              "          docLink.innerHTML = docLinkHtml;\n",
              "          element.appendChild(docLink);\n",
              "        }\n",
              "      </script>\n",
              "    </div>\n",
              "  </div>\n",
              "  "
            ]
          },
          "metadata": {},
          "execution_count": 25
        }
      ]
    },
    {
      "cell_type": "code",
      "source": [
        "df_test = dataset[dataset.iloc[:,0]>2006]  \n",
        "df_test.head()"
      ],
      "metadata": {
        "colab": {
          "base_uri": "https://localhost:8080/",
          "height": 206
        },
        "id": "c_6p7FYnAp0s",
        "outputId": "71bd8917-d393-4340-d645-37fdbf52e85f"
      },
      "execution_count": 26,
      "outputs": [
        {
          "output_type": "execute_result",
          "data": {
            "text/plain": [
              "     Year  Month    MEI     CO2      CH4      N2O   CFC-11   CFC-12  \\\n",
              "284  2007      1  0.974  382.93  1799.66  320.561  248.372  539.206   \n",
              "285  2007      2  0.510  383.81  1803.08  320.571  248.264  538.973   \n",
              "286  2007      3  0.074  384.56  1803.10  320.548  247.997  538.811   \n",
              "287  2007      4 -0.049  386.40  1802.11  320.518  247.574  538.586   \n",
              "288  2007      5  0.183  386.58  1795.65  320.445  247.224  538.130   \n",
              "\n",
              "           TSI  Aerosols   Temp  \n",
              "284  1365.7173    0.0054  0.601  \n",
              "285  1365.7145    0.0051  0.498  \n",
              "286  1365.7544    0.0045  0.435  \n",
              "287  1365.7228    0.0045  0.466  \n",
              "288  1365.6932    0.0041  0.372  "
            ],
            "text/html": [
              "\n",
              "  <div id=\"df-4ef7625f-3289-4139-ab49-2a513a12f281\">\n",
              "    <div class=\"colab-df-container\">\n",
              "      <div>\n",
              "<style scoped>\n",
              "    .dataframe tbody tr th:only-of-type {\n",
              "        vertical-align: middle;\n",
              "    }\n",
              "\n",
              "    .dataframe tbody tr th {\n",
              "        vertical-align: top;\n",
              "    }\n",
              "\n",
              "    .dataframe thead th {\n",
              "        text-align: right;\n",
              "    }\n",
              "</style>\n",
              "<table border=\"1\" class=\"dataframe\">\n",
              "  <thead>\n",
              "    <tr style=\"text-align: right;\">\n",
              "      <th></th>\n",
              "      <th>Year</th>\n",
              "      <th>Month</th>\n",
              "      <th>MEI</th>\n",
              "      <th>CO2</th>\n",
              "      <th>CH4</th>\n",
              "      <th>N2O</th>\n",
              "      <th>CFC-11</th>\n",
              "      <th>CFC-12</th>\n",
              "      <th>TSI</th>\n",
              "      <th>Aerosols</th>\n",
              "      <th>Temp</th>\n",
              "    </tr>\n",
              "  </thead>\n",
              "  <tbody>\n",
              "    <tr>\n",
              "      <th>284</th>\n",
              "      <td>2007</td>\n",
              "      <td>1</td>\n",
              "      <td>0.974</td>\n",
              "      <td>382.93</td>\n",
              "      <td>1799.66</td>\n",
              "      <td>320.561</td>\n",
              "      <td>248.372</td>\n",
              "      <td>539.206</td>\n",
              "      <td>1365.7173</td>\n",
              "      <td>0.0054</td>\n",
              "      <td>0.601</td>\n",
              "    </tr>\n",
              "    <tr>\n",
              "      <th>285</th>\n",
              "      <td>2007</td>\n",
              "      <td>2</td>\n",
              "      <td>0.510</td>\n",
              "      <td>383.81</td>\n",
              "      <td>1803.08</td>\n",
              "      <td>320.571</td>\n",
              "      <td>248.264</td>\n",
              "      <td>538.973</td>\n",
              "      <td>1365.7145</td>\n",
              "      <td>0.0051</td>\n",
              "      <td>0.498</td>\n",
              "    </tr>\n",
              "    <tr>\n",
              "      <th>286</th>\n",
              "      <td>2007</td>\n",
              "      <td>3</td>\n",
              "      <td>0.074</td>\n",
              "      <td>384.56</td>\n",
              "      <td>1803.10</td>\n",
              "      <td>320.548</td>\n",
              "      <td>247.997</td>\n",
              "      <td>538.811</td>\n",
              "      <td>1365.7544</td>\n",
              "      <td>0.0045</td>\n",
              "      <td>0.435</td>\n",
              "    </tr>\n",
              "    <tr>\n",
              "      <th>287</th>\n",
              "      <td>2007</td>\n",
              "      <td>4</td>\n",
              "      <td>-0.049</td>\n",
              "      <td>386.40</td>\n",
              "      <td>1802.11</td>\n",
              "      <td>320.518</td>\n",
              "      <td>247.574</td>\n",
              "      <td>538.586</td>\n",
              "      <td>1365.7228</td>\n",
              "      <td>0.0045</td>\n",
              "      <td>0.466</td>\n",
              "    </tr>\n",
              "    <tr>\n",
              "      <th>288</th>\n",
              "      <td>2007</td>\n",
              "      <td>5</td>\n",
              "      <td>0.183</td>\n",
              "      <td>386.58</td>\n",
              "      <td>1795.65</td>\n",
              "      <td>320.445</td>\n",
              "      <td>247.224</td>\n",
              "      <td>538.130</td>\n",
              "      <td>1365.6932</td>\n",
              "      <td>0.0041</td>\n",
              "      <td>0.372</td>\n",
              "    </tr>\n",
              "  </tbody>\n",
              "</table>\n",
              "</div>\n",
              "      <button class=\"colab-df-convert\" onclick=\"convertToInteractive('df-4ef7625f-3289-4139-ab49-2a513a12f281')\"\n",
              "              title=\"Convert this dataframe to an interactive table.\"\n",
              "              style=\"display:none;\">\n",
              "        \n",
              "  <svg xmlns=\"http://www.w3.org/2000/svg\" height=\"24px\"viewBox=\"0 0 24 24\"\n",
              "       width=\"24px\">\n",
              "    <path d=\"M0 0h24v24H0V0z\" fill=\"none\"/>\n",
              "    <path d=\"M18.56 5.44l.94 2.06.94-2.06 2.06-.94-2.06-.94-.94-2.06-.94 2.06-2.06.94zm-11 1L8.5 8.5l.94-2.06 2.06-.94-2.06-.94L8.5 2.5l-.94 2.06-2.06.94zm10 10l.94 2.06.94-2.06 2.06-.94-2.06-.94-.94-2.06-.94 2.06-2.06.94z\"/><path d=\"M17.41 7.96l-1.37-1.37c-.4-.4-.92-.59-1.43-.59-.52 0-1.04.2-1.43.59L10.3 9.45l-7.72 7.72c-.78.78-.78 2.05 0 2.83L4 21.41c.39.39.9.59 1.41.59.51 0 1.02-.2 1.41-.59l7.78-7.78 2.81-2.81c.8-.78.8-2.07 0-2.86zM5.41 20L4 18.59l7.72-7.72 1.47 1.35L5.41 20z\"/>\n",
              "  </svg>\n",
              "      </button>\n",
              "      \n",
              "  <style>\n",
              "    .colab-df-container {\n",
              "      display:flex;\n",
              "      flex-wrap:wrap;\n",
              "      gap: 12px;\n",
              "    }\n",
              "\n",
              "    .colab-df-convert {\n",
              "      background-color: #E8F0FE;\n",
              "      border: none;\n",
              "      border-radius: 50%;\n",
              "      cursor: pointer;\n",
              "      display: none;\n",
              "      fill: #1967D2;\n",
              "      height: 32px;\n",
              "      padding: 0 0 0 0;\n",
              "      width: 32px;\n",
              "    }\n",
              "\n",
              "    .colab-df-convert:hover {\n",
              "      background-color: #E2EBFA;\n",
              "      box-shadow: 0px 1px 2px rgba(60, 64, 67, 0.3), 0px 1px 3px 1px rgba(60, 64, 67, 0.15);\n",
              "      fill: #174EA6;\n",
              "    }\n",
              "\n",
              "    [theme=dark] .colab-df-convert {\n",
              "      background-color: #3B4455;\n",
              "      fill: #D2E3FC;\n",
              "    }\n",
              "\n",
              "    [theme=dark] .colab-df-convert:hover {\n",
              "      background-color: #434B5C;\n",
              "      box-shadow: 0px 1px 3px 1px rgba(0, 0, 0, 0.15);\n",
              "      filter: drop-shadow(0px 1px 2px rgba(0, 0, 0, 0.3));\n",
              "      fill: #FFFFFF;\n",
              "    }\n",
              "  </style>\n",
              "\n",
              "      <script>\n",
              "        const buttonEl =\n",
              "          document.querySelector('#df-4ef7625f-3289-4139-ab49-2a513a12f281 button.colab-df-convert');\n",
              "        buttonEl.style.display =\n",
              "          google.colab.kernel.accessAllowed ? 'block' : 'none';\n",
              "\n",
              "        async function convertToInteractive(key) {\n",
              "          const element = document.querySelector('#df-4ef7625f-3289-4139-ab49-2a513a12f281');\n",
              "          const dataTable =\n",
              "            await google.colab.kernel.invokeFunction('convertToInteractive',\n",
              "                                                     [key], {});\n",
              "          if (!dataTable) return;\n",
              "\n",
              "          const docLinkHtml = 'Like what you see? Visit the ' +\n",
              "            '<a target=\"_blank\" href=https://colab.research.google.com/notebooks/data_table.ipynb>data table notebook</a>'\n",
              "            + ' to learn more about interactive tables.';\n",
              "          element.innerHTML = '';\n",
              "          dataTable['output_type'] = 'display_data';\n",
              "          await google.colab.output.renderOutput(dataTable, element);\n",
              "          const docLink = document.createElement('div');\n",
              "          docLink.innerHTML = docLinkHtml;\n",
              "          element.appendChild(docLink);\n",
              "        }\n",
              "      </script>\n",
              "    </div>\n",
              "  </div>\n",
              "  "
            ]
          },
          "metadata": {},
          "execution_count": 26
        }
      ]
    },
    {
      "cell_type": "markdown",
      "source": [
        "linear regression model of traing set"
      ],
      "metadata": {
        "id": "Jy7Iuazl5a-o"
      }
    },
    {
      "cell_type": "code",
      "source": [
        "#Setting the value for X and Y\n",
        "x_train = df_train[['MEI', 'CO2', 'CH4', 'N2O', 'CFC-11', 'CFC-12', 'TSI','Aerosols']]\n",
        "y_train = df_train['Temp']\n",
        "x2_train = sm.add_constant(x_train)\n",
        "est_train = sm.OLS(y_train,x2_train)\n",
        "est2_train = est_train.fit()\n",
        "print(est2_train.summary())"
      ],
      "metadata": {
        "colab": {
          "base_uri": "https://localhost:8080/"
        },
        "id": "z_c7zuVSBQbV",
        "outputId": "d60a8986-06fc-4b33-d6f2-3c7ef00d34dd"
      },
      "execution_count": 27,
      "outputs": [
        {
          "output_type": "stream",
          "name": "stdout",
          "text": [
            "                            OLS Regression Results                            \n",
            "==============================================================================\n",
            "Dep. Variable:                   Temp   R-squared:                       0.722\n",
            "Model:                            OLS   Adj. R-squared:                  0.711\n",
            "Method:                 Least Squares   F-statistic:                     68.15\n",
            "Date:                Tue, 22 Nov 2022   Prob (F-statistic):           3.37e-54\n",
            "Time:                        09:27:09   Log-Likelihood:                 229.49\n",
            "No. Observations:                 219   AIC:                            -441.0\n",
            "Df Residuals:                     210   BIC:                            -410.5\n",
            "Df Model:                           8                                         \n",
            "Covariance Type:            nonrobust                                         \n",
            "==============================================================================\n",
            "                 coef    std err          t      P>|t|      [0.025      0.975]\n",
            "------------------------------------------------------------------------------\n",
            "const        -51.0320     24.469     -2.086      0.038     -99.268      -2.796\n",
            "MEI            0.0622      0.007      8.508      0.000       0.048       0.077\n",
            "CO2            0.0050      0.002      1.995      0.047    5.82e-05       0.010\n",
            "CH4           -0.0004      0.001     -0.689      0.491      -0.001       0.001\n",
            "N2O            0.0018      0.012      0.156      0.876      -0.021       0.025\n",
            "CFC-11        -0.0011      0.003     -0.406      0.685      -0.007       0.004\n",
            "CFC-12         0.0014      0.001      0.940      0.348      -0.002       0.004\n",
            "TSI            0.0360      0.019      1.931      0.055      -0.001       0.073\n",
            "Aerosols      -8.4359      2.024     -4.167      0.000     -12.427      -4.445\n",
            "==============================================================================\n",
            "Omnibus:                        6.330   Durbin-Watson:                   0.994\n",
            "Prob(Omnibus):                  0.042   Jarque-Bera (JB):                6.027\n",
            "Skew:                           0.363   Prob(JB):                       0.0491\n",
            "Kurtosis:                       3.366   Cond. No.                     9.82e+06\n",
            "==============================================================================\n",
            "\n",
            "Notes:\n",
            "[1] Standard Errors assume that the covariance matrix of the errors is correctly specified.\n",
            "[2] The condition number is large, 9.82e+06. This might indicate that there are\n",
            "strong multicollinearity or other numerical problems.\n"
          ]
        },
        {
          "output_type": "stream",
          "name": "stderr",
          "text": [
            "/usr/local/lib/python3.7/dist-packages/statsmodels/tsa/tsatools.py:142: FutureWarning: In a future version of pandas all arguments of concat except for the argument 'objs' will be keyword-only\n",
            "  x = pd.concat(x[::order], 1)\n"
          ]
        }
      ]
    },
    {
      "cell_type": "markdown",
      "source": [
        "**Problem 1.1**\n",
        "The value of R-squared : 0.722\n"
      ],
      "metadata": {
        "id": "xp4zapMM5g6V"
      }
    },
    {
      "cell_type": "markdown",
      "source": [
        "**Problem 1.2**\n",
        "Which variables are significant in the model?\n",
        "\n",
        "Ans. : MEI, CO2, TSI ,Aerosols (p-value <0.05)"
      ],
      "metadata": {
        "id": "gEB_e5c962kl"
      }
    },
    {
      "cell_type": "code",
      "source": [
        "#Setting the value for X and Y\n",
        "x_test = df_test[['MEI', 'CO2', 'CH4', 'N2O', 'CFC-11', 'CFC-12', 'TSI',\n",
        "       'Aerosols']]\n",
        "y_test = df_test['Temp']"
      ],
      "metadata": {
        "id": "p3_-ewneCLdx"
      },
      "execution_count": 28,
      "outputs": []
    },
    {
      "cell_type": "code",
      "source": [
        "x_train.size\n"
      ],
      "metadata": {
        "colab": {
          "base_uri": "https://localhost:8080/"
        },
        "id": "vbaOzqyuCTj4",
        "outputId": "05519983-788e-4696-b0cd-eef69571ef03"
      },
      "execution_count": 29,
      "outputs": [
        {
          "output_type": "execute_result",
          "data": {
            "text/plain": [
              "1752"
            ]
          },
          "metadata": {},
          "execution_count": 29
        }
      ]
    },
    {
      "cell_type": "code",
      "source": [
        "y_train.size\n"
      ],
      "metadata": {
        "colab": {
          "base_uri": "https://localhost:8080/"
        },
        "id": "rGytFT8CCoBA",
        "outputId": "5a940215-8a66-40e0-f166-624150a54bce"
      },
      "execution_count": 30,
      "outputs": [
        {
          "output_type": "execute_result",
          "data": {
            "text/plain": [
              "219"
            ]
          },
          "metadata": {},
          "execution_count": 30
        }
      ]
    },
    {
      "cell_type": "code",
      "source": [
        "x_test.size\n"
      ],
      "metadata": {
        "colab": {
          "base_uri": "https://localhost:8080/"
        },
        "id": "_AOizmieCyZ-",
        "outputId": "80dcea9a-3218-4f7a-a9c8-da89c043494a"
      },
      "execution_count": 31,
      "outputs": [
        {
          "output_type": "execute_result",
          "data": {
            "text/plain": [
              "192"
            ]
          },
          "metadata": {},
          "execution_count": 31
        }
      ]
    },
    {
      "cell_type": "code",
      "source": [
        "y_test.size"
      ],
      "metadata": {
        "colab": {
          "base_uri": "https://localhost:8080/"
        },
        "id": "z0dd80pXC0H5",
        "outputId": "7d92c109-4f26-4c17-b34c-9a26331c0a5c"
      },
      "execution_count": 32,
      "outputs": [
        {
          "output_type": "execute_result",
          "data": {
            "text/plain": [
              "24"
            ]
          },
          "metadata": {},
          "execution_count": 32
        }
      ]
    },
    {
      "cell_type": "code",
      "source": [
        "from sklearn.linear_model import LinearRegression"
      ],
      "metadata": {
        "id": "BvT2ZO4Xh7pM"
      },
      "execution_count": 33,
      "outputs": []
    },
    {
      "cell_type": "code",
      "source": [
        "mlr = LinearRegression()\n",
        "mlr.fit(x_train,y_train)"
      ],
      "metadata": {
        "colab": {
          "base_uri": "https://localhost:8080/"
        },
        "id": "SVsi5tQUH0Tx",
        "outputId": "8c0c32ff-3d15-44c0-957e-f18b985f6d56"
      },
      "execution_count": 34,
      "outputs": [
        {
          "output_type": "execute_result",
          "data": {
            "text/plain": [
              "LinearRegression()"
            ]
          },
          "metadata": {},
          "execution_count": 34
        }
      ]
    },
    {
      "cell_type": "code",
      "source": [
        "print(\"Intercept: \", mlr.intercept_)\n",
        "print(\"Coefficients:\")\n",
        "list(zip(x_train, mlr.coef_))"
      ],
      "metadata": {
        "colab": {
          "base_uri": "https://localhost:8080/"
        },
        "id": "wIBYdJx4Icyn",
        "outputId": "8083cd2f-82dd-49e0-b4f7-e54c2b723871"
      },
      "execution_count": 35,
      "outputs": [
        {
          "output_type": "stream",
          "name": "stdout",
          "text": [
            "Intercept:  -51.031969159858036\n",
            "Coefficients:\n"
          ]
        },
        {
          "output_type": "execute_result",
          "data": {
            "text/plain": [
              "[('MEI', 0.06223569777302381),\n",
              " ('CO2', 0.0049606987940408465),\n",
              " ('CH4', -0.00038810727802363575),\n",
              " ('N2O', 0.0018262419311547184),\n",
              " ('CFC-11', -0.0011344993284555694),\n",
              " ('CFC-12', 0.0014013277032073551),\n",
              " ('TSI', 0.03604734063953119),\n",
              " ('Aerosols', -8.435947559286046)]"
            ]
          },
          "metadata": {},
          "execution_count": 35
        }
      ]
    },
    {
      "cell_type": "code",
      "source": [
        "from scipy.stats import pearsonr\n",
        "list1 = df_train['MEI']\n",
        "list2 = df_train['N2O']\n",
        " \n",
        "# Apply the pearsonr()\n",
        "corr, _ = pearsonr(list1, list2)\n",
        "print('Pearsons correlation: %.3f' % corr)"
      ],
      "metadata": {
        "colab": {
          "base_uri": "https://localhost:8080/"
        },
        "id": "Ow6jZA2XOVpY",
        "outputId": "3b7880f7-9b4c-4736-8b8b-22f7b85ed163"
      },
      "execution_count": 36,
      "outputs": [
        {
          "output_type": "stream",
          "name": "stdout",
          "text": [
            "Pearsons correlation: -0.062\n"
          ]
        }
      ]
    },
    {
      "cell_type": "code",
      "source": [
        "from scipy.stats import pearsonr\n",
        "list1 = df_train['CO2']\n",
        "list2 = df_train['N2O']\n",
        " \n",
        "# Apply the pearsonr()\n",
        "corr, _ = pearsonr(list1, list2)\n",
        "print('Pearsons correlation: %.3f' % corr)"
      ],
      "metadata": {
        "colab": {
          "base_uri": "https://localhost:8080/"
        },
        "id": "R4JUZ7fWO8S8",
        "outputId": "b56d6d68-c619-4520-d834-463c6e6d30c7"
      },
      "execution_count": 37,
      "outputs": [
        {
          "output_type": "stream",
          "name": "stdout",
          "text": [
            "Pearsons correlation: 0.975\n"
          ]
        }
      ]
    },
    {
      "cell_type": "code",
      "source": [
        "from scipy.stats import pearsonr\n",
        "list1 = df_train['CH4']\n",
        "list2 = df_train['N2O']\n",
        " \n",
        "# Apply the pearsonr()\n",
        "corr, _ = pearsonr(list1, list2)\n",
        "print('Pearsons correlation: %.3f' % corr)"
      ],
      "metadata": {
        "colab": {
          "base_uri": "https://localhost:8080/"
        },
        "id": "pmatoQYiO9An",
        "outputId": "646c1f70-e465-4989-9f4d-9c0011dc4a62"
      },
      "execution_count": 38,
      "outputs": [
        {
          "output_type": "stream",
          "name": "stdout",
          "text": [
            "Pearsons correlation: 0.890\n"
          ]
        }
      ]
    },
    {
      "cell_type": "code",
      "source": [
        "from scipy.stats import pearsonr\n",
        "list1 = df_train['CFC-11']\n",
        "list2 = df_train['N2O']\n",
        " \n",
        "# Apply the pearsonr()\n",
        "corr, _ = pearsonr(list1, list2)\n",
        "print('Pearsons correlation: %.3f' % corr)"
      ],
      "metadata": {
        "colab": {
          "base_uri": "https://localhost:8080/"
        },
        "id": "5bNrzUwwO92P",
        "outputId": "027f5f01-b512-4139-8610-1abed84cc171"
      },
      "execution_count": 39,
      "outputs": [
        {
          "output_type": "stream",
          "name": "stdout",
          "text": [
            "Pearsons correlation: 0.327\n"
          ]
        }
      ]
    },
    {
      "cell_type": "code",
      "source": [
        "from scipy.stats import pearsonr\n",
        "list1 = df_train['CFC-12']\n",
        "list2 = df_train['N2O']\n",
        " \n",
        "# Apply the pearsonr()\n",
        "corr, _ = pearsonr(list1, list2)\n",
        "print('Pearsons correlation: %.3f' % corr)"
      ],
      "metadata": {
        "colab": {
          "base_uri": "https://localhost:8080/"
        },
        "id": "b3UNvML7PO-u",
        "outputId": "9fb77a05-54e4-4e31-83b1-ddad850471c8"
      },
      "execution_count": 40,
      "outputs": [
        {
          "output_type": "stream",
          "name": "stdout",
          "text": [
            "Pearsons correlation: 0.865\n"
          ]
        }
      ]
    },
    {
      "cell_type": "code",
      "source": [
        "from scipy.stats import pearsonr\n",
        "list1 = df_train['TSI']\n",
        "list2 = df_train['N2O']\n",
        " \n",
        "# Apply the pearsonr()\n",
        "corr, _ = pearsonr(list1, list2)\n",
        "print('Pearsons correlation: %.3f' % corr)"
      ],
      "metadata": {
        "colab": {
          "base_uri": "https://localhost:8080/"
        },
        "id": "MT0TVjFiPPqq",
        "outputId": "9ad0be74-fc2a-4c8a-8064-3f029d5e4d44"
      },
      "execution_count": 41,
      "outputs": [
        {
          "output_type": "stream",
          "name": "stdout",
          "text": [
            "Pearsons correlation: 0.160\n"
          ]
        }
      ]
    },
    {
      "cell_type": "code",
      "source": [
        "from scipy.stats import pearsonr\n",
        "list1 = df_train['Aerosols']\n",
        "list2 = df_train['N2O']\n",
        " \n",
        "# Apply the pearsonr()\n",
        "corr, _ = pearsonr(list1, list2)\n",
        "print('Pearsons correlation: %.3f' % corr)"
      ],
      "metadata": {
        "colab": {
          "base_uri": "https://localhost:8080/"
        },
        "id": "oqYxWJV9O_EJ",
        "outputId": "1e29eb2d-8628-4a37-c06c-c15c6df17cef"
      },
      "execution_count": 42,
      "outputs": [
        {
          "output_type": "stream",
          "name": "stdout",
          "text": [
            "Pearsons correlation: -0.661\n"
          ]
        }
      ]
    },
    {
      "cell_type": "markdown",
      "source": [
        "**Problem 2.1**\n",
        "Which of the following is the simplest correct explanation for this contradiction?\n",
        "\n",
        "I. Climate scientists are wrong that N2O and CFC-11 are greenhouse gases - this regression analysis constitutes part of a disproof.\n",
        "\n",
        "II. There is not enough data, so the regression coefficients being estimated are not accurate.\n",
        "\n",
        "III. All of the gas concentration variables reflect human development - N2O and CFC.11 are correlated with other variables in the data set.\n",
        "\n",
        "Ans:All of the gas concentration variables reflect human development - N2O and CFC.11 are correlated with other variables in the data set.\n"
      ],
      "metadata": {
        "id": "AwbZMUVuGaSU"
      }
    },
    {
      "cell_type": "markdown",
      "source": [
        "##Correlation\n",
        "Which of the following independent variables is N2O highly correlated with (absolute correlation greater than 0.7)? \n",
        "\n",
        "ans. b) CO2 c) CH4  f) CFC.12"
      ],
      "metadata": {
        "id": "ih3kW2aRDA0B"
      }
    },
    {
      "cell_type": "code",
      "source": [
        "from scipy.stats import pearsonr\n",
        "list1 = df_train['MEI']\n",
        "list2 = df_train['CFC-11']\n",
        " \n",
        "# Apply the pearsonr()\n",
        "corr, _ = pearsonr(list1, list2)\n",
        "print('Pearsons correlation: %.3f' % corr)"
      ],
      "metadata": {
        "colab": {
          "base_uri": "https://localhost:8080/"
        },
        "id": "Ksd4vW7ePAXl",
        "outputId": "dd76468f-5c43-4931-ea96-fdfcd00fcc64"
      },
      "execution_count": 43,
      "outputs": [
        {
          "output_type": "stream",
          "name": "stdout",
          "text": [
            "Pearsons correlation: -0.166\n"
          ]
        }
      ]
    },
    {
      "cell_type": "code",
      "source": [
        "from scipy.stats import pearsonr\n",
        "list1 = df_train['CO2']\n",
        "list2 = df_train['CFC-11']\n",
        " \n",
        "# Apply the pearsonr()\n",
        "corr, _ = pearsonr(list1, list2)\n",
        "print('Pearsons correlation: %.3f' % corr)"
      ],
      "metadata": {
        "colab": {
          "base_uri": "https://localhost:8080/"
        },
        "id": "jrTj3IbEPkaq",
        "outputId": "b18d0b7b-f181-4371-953e-09e97924ff19"
      },
      "execution_count": 44,
      "outputs": [
        {
          "output_type": "stream",
          "name": "stdout",
          "text": [
            "Pearsons correlation: 0.342\n"
          ]
        }
      ]
    },
    {
      "cell_type": "code",
      "source": [
        "from scipy.stats import pearsonr\n",
        "list1 = df_train['CH4']\n",
        "list2 = df_train['CFC-11']\n",
        " \n",
        "# Apply the pearsonr()\n",
        "corr, _ = pearsonr(list1, list2)\n",
        "print('Pearsons correlation: %.3f' % corr)"
      ],
      "metadata": {
        "colab": {
          "base_uri": "https://localhost:8080/"
        },
        "id": "fmjETzB_Plg7",
        "outputId": "c2302e3c-1c37-426a-d1ec-b8cde0d60441"
      },
      "execution_count": 45,
      "outputs": [
        {
          "output_type": "stream",
          "name": "stdout",
          "text": [
            "Pearsons correlation: 0.628\n"
          ]
        }
      ]
    },
    {
      "cell_type": "code",
      "source": [
        "from scipy.stats import pearsonr\n",
        "list1 = df_train['N2O']\n",
        "list2 = df_train['CFC-11']\n",
        " \n",
        "# Apply the pearsonr()\n",
        "corr, _ = pearsonr(list1, list2)\n",
        "print('Pearsons correlation: %.3f' % corr)"
      ],
      "metadata": {
        "colab": {
          "base_uri": "https://localhost:8080/"
        },
        "id": "wBNix3WKPlkG",
        "outputId": "a9f940af-93c8-42e3-db25-410e3605bf80"
      },
      "execution_count": 46,
      "outputs": [
        {
          "output_type": "stream",
          "name": "stdout",
          "text": [
            "Pearsons correlation: 0.327\n"
          ]
        }
      ]
    },
    {
      "cell_type": "code",
      "source": [
        "from scipy.stats import pearsonr\n",
        "list1 = df_train['CFC-12']\n",
        "list2 = df_train['CFC-11']\n",
        " \n",
        "# Apply the pearsonr()\n",
        "corr, _ = pearsonr(list1, list2)\n",
        "print('Pearsons correlation: %.3f' % corr)"
      ],
      "metadata": {
        "colab": {
          "base_uri": "https://localhost:8080/"
        },
        "id": "nXTwRhP1Plnf",
        "outputId": "6502379c-33af-45f6-9a4a-0b81e52b9bf2"
      },
      "execution_count": 47,
      "outputs": [
        {
          "output_type": "stream",
          "name": "stdout",
          "text": [
            "Pearsons correlation: 0.749\n"
          ]
        }
      ]
    },
    {
      "cell_type": "code",
      "source": [
        "from scipy.stats import pearsonr\n",
        "list1 = df_train['TSI']\n",
        "list2 = df_train['CFC-11']\n",
        " \n",
        "# Apply the pearsonr()\n",
        "corr, _ = pearsonr(list1, list2)\n",
        "print('Pearsons correlation: %.3f' % corr)"
      ],
      "metadata": {
        "colab": {
          "base_uri": "https://localhost:8080/"
        },
        "id": "nem1fp1GPlqq",
        "outputId": "0af5984b-d427-4978-e9bb-06b6ed4eccdb"
      },
      "execution_count": 48,
      "outputs": [
        {
          "output_type": "stream",
          "name": "stdout",
          "text": [
            "Pearsons correlation: 0.257\n"
          ]
        }
      ]
    },
    {
      "cell_type": "code",
      "source": [
        "from scipy.stats import pearsonr\n",
        "list1 = df_train['Aerosols']\n",
        "list2 = df_train['CFC-11']\n",
        " \n",
        "# Apply the pearsonr()\n",
        "corr, _ = pearsonr(list1, list2)\n",
        "print('Pearsons correlation: %.3f' % corr)"
      ],
      "metadata": {
        "colab": {
          "base_uri": "https://localhost:8080/"
        },
        "id": "yslbqUjjPlth",
        "outputId": "27d2a96c-8467-4412-937d-989ae543a4a4"
      },
      "execution_count": 49,
      "outputs": [
        {
          "output_type": "stream",
          "name": "stdout",
          "text": [
            "Pearsons correlation: -0.231\n"
          ]
        }
      ]
    },
    {
      "cell_type": "markdown",
      "source": [
        "Which of the following independent variables is CFC.11 highly correlated with? Select all that apply.\n",
        "\n",
        "ans: CFC.12 "
      ],
      "metadata": {
        "id": "r8aL1hDADZgp"
      }
    },
    {
      "cell_type": "code",
      "source": [
        "from sklearn.linear_model import LinearRegression\n",
        "regressor = LinearRegression()\n",
        "regressor.fit(x_train, y_train)"
      ],
      "metadata": {
        "colab": {
          "base_uri": "https://localhost:8080/"
        },
        "id": "IkeRO765-3I-",
        "outputId": "c588f104-1ccd-4fa1-fe00-0d0aaf132bc8"
      },
      "execution_count": 50,
      "outputs": [
        {
          "output_type": "execute_result",
          "data": {
            "text/plain": [
              "LinearRegression()"
            ]
          },
          "metadata": {},
          "execution_count": 50
        }
      ]
    },
    {
      "cell_type": "code",
      "source": [
        "y_pred = regressor.predict(x_test)"
      ],
      "metadata": {
        "id": "v4tVDmL2-3L3"
      },
      "execution_count": 51,
      "outputs": []
    },
    {
      "cell_type": "code",
      "source": [
        "df_train.drop(['CH4', 'N2O', 'CFC-11', 'CFC-12'],axis=1)"
      ],
      "metadata": {
        "colab": {
          "base_uri": "https://localhost:8080/",
          "height": 424
        },
        "id": "nHWCtigmjmKG",
        "outputId": "b38e1aac-0e0b-4e90-e2d7-3fa05c99e306"
      },
      "execution_count": 52,
      "outputs": [
        {
          "output_type": "execute_result",
          "data": {
            "text/plain": [
              "     Year  Month    MEI     CO2        TSI  Aerosols   Temp\n",
              "29   1985     10 -0.140  343.08  1365.5269    0.0101 -0.008\n",
              "30   1985     11 -0.050  344.40  1365.6289    0.0097 -0.093\n",
              "31   1985     12 -0.293  345.82  1365.6794    0.0122 -0.002\n",
              "32   1986      1 -0.307  346.54  1365.6746    0.0146  0.121\n",
              "33   1986      2 -0.191  347.13  1365.5475    0.0158  0.065\n",
              "..    ...    ...    ...     ...        ...       ...    ...\n",
              "279  2006      8  0.759  380.45  1365.7067    0.0041  0.482\n",
              "280  2006      9  0.793  378.92  1365.8419    0.0043  0.425\n",
              "281  2006     10  0.892  379.16  1365.8270    0.0044  0.472\n",
              "282  2006     11  1.292  380.18  1365.7039    0.0049  0.440\n",
              "283  2006     12  0.951  381.79  1365.7087    0.0054  0.518\n",
              "\n",
              "[219 rows x 7 columns]"
            ],
            "text/html": [
              "\n",
              "  <div id=\"df-fa5d3a32-1a9f-4857-8f75-17f3d73bf136\">\n",
              "    <div class=\"colab-df-container\">\n",
              "      <div>\n",
              "<style scoped>\n",
              "    .dataframe tbody tr th:only-of-type {\n",
              "        vertical-align: middle;\n",
              "    }\n",
              "\n",
              "    .dataframe tbody tr th {\n",
              "        vertical-align: top;\n",
              "    }\n",
              "\n",
              "    .dataframe thead th {\n",
              "        text-align: right;\n",
              "    }\n",
              "</style>\n",
              "<table border=\"1\" class=\"dataframe\">\n",
              "  <thead>\n",
              "    <tr style=\"text-align: right;\">\n",
              "      <th></th>\n",
              "      <th>Year</th>\n",
              "      <th>Month</th>\n",
              "      <th>MEI</th>\n",
              "      <th>CO2</th>\n",
              "      <th>TSI</th>\n",
              "      <th>Aerosols</th>\n",
              "      <th>Temp</th>\n",
              "    </tr>\n",
              "  </thead>\n",
              "  <tbody>\n",
              "    <tr>\n",
              "      <th>29</th>\n",
              "      <td>1985</td>\n",
              "      <td>10</td>\n",
              "      <td>-0.140</td>\n",
              "      <td>343.08</td>\n",
              "      <td>1365.5269</td>\n",
              "      <td>0.0101</td>\n",
              "      <td>-0.008</td>\n",
              "    </tr>\n",
              "    <tr>\n",
              "      <th>30</th>\n",
              "      <td>1985</td>\n",
              "      <td>11</td>\n",
              "      <td>-0.050</td>\n",
              "      <td>344.40</td>\n",
              "      <td>1365.6289</td>\n",
              "      <td>0.0097</td>\n",
              "      <td>-0.093</td>\n",
              "    </tr>\n",
              "    <tr>\n",
              "      <th>31</th>\n",
              "      <td>1985</td>\n",
              "      <td>12</td>\n",
              "      <td>-0.293</td>\n",
              "      <td>345.82</td>\n",
              "      <td>1365.6794</td>\n",
              "      <td>0.0122</td>\n",
              "      <td>-0.002</td>\n",
              "    </tr>\n",
              "    <tr>\n",
              "      <th>32</th>\n",
              "      <td>1986</td>\n",
              "      <td>1</td>\n",
              "      <td>-0.307</td>\n",
              "      <td>346.54</td>\n",
              "      <td>1365.6746</td>\n",
              "      <td>0.0146</td>\n",
              "      <td>0.121</td>\n",
              "    </tr>\n",
              "    <tr>\n",
              "      <th>33</th>\n",
              "      <td>1986</td>\n",
              "      <td>2</td>\n",
              "      <td>-0.191</td>\n",
              "      <td>347.13</td>\n",
              "      <td>1365.5475</td>\n",
              "      <td>0.0158</td>\n",
              "      <td>0.065</td>\n",
              "    </tr>\n",
              "    <tr>\n",
              "      <th>...</th>\n",
              "      <td>...</td>\n",
              "      <td>...</td>\n",
              "      <td>...</td>\n",
              "      <td>...</td>\n",
              "      <td>...</td>\n",
              "      <td>...</td>\n",
              "      <td>...</td>\n",
              "    </tr>\n",
              "    <tr>\n",
              "      <th>279</th>\n",
              "      <td>2006</td>\n",
              "      <td>8</td>\n",
              "      <td>0.759</td>\n",
              "      <td>380.45</td>\n",
              "      <td>1365.7067</td>\n",
              "      <td>0.0041</td>\n",
              "      <td>0.482</td>\n",
              "    </tr>\n",
              "    <tr>\n",
              "      <th>280</th>\n",
              "      <td>2006</td>\n",
              "      <td>9</td>\n",
              "      <td>0.793</td>\n",
              "      <td>378.92</td>\n",
              "      <td>1365.8419</td>\n",
              "      <td>0.0043</td>\n",
              "      <td>0.425</td>\n",
              "    </tr>\n",
              "    <tr>\n",
              "      <th>281</th>\n",
              "      <td>2006</td>\n",
              "      <td>10</td>\n",
              "      <td>0.892</td>\n",
              "      <td>379.16</td>\n",
              "      <td>1365.8270</td>\n",
              "      <td>0.0044</td>\n",
              "      <td>0.472</td>\n",
              "    </tr>\n",
              "    <tr>\n",
              "      <th>282</th>\n",
              "      <td>2006</td>\n",
              "      <td>11</td>\n",
              "      <td>1.292</td>\n",
              "      <td>380.18</td>\n",
              "      <td>1365.7039</td>\n",
              "      <td>0.0049</td>\n",
              "      <td>0.440</td>\n",
              "    </tr>\n",
              "    <tr>\n",
              "      <th>283</th>\n",
              "      <td>2006</td>\n",
              "      <td>12</td>\n",
              "      <td>0.951</td>\n",
              "      <td>381.79</td>\n",
              "      <td>1365.7087</td>\n",
              "      <td>0.0054</td>\n",
              "      <td>0.518</td>\n",
              "    </tr>\n",
              "  </tbody>\n",
              "</table>\n",
              "<p>219 rows × 7 columns</p>\n",
              "</div>\n",
              "      <button class=\"colab-df-convert\" onclick=\"convertToInteractive('df-fa5d3a32-1a9f-4857-8f75-17f3d73bf136')\"\n",
              "              title=\"Convert this dataframe to an interactive table.\"\n",
              "              style=\"display:none;\">\n",
              "        \n",
              "  <svg xmlns=\"http://www.w3.org/2000/svg\" height=\"24px\"viewBox=\"0 0 24 24\"\n",
              "       width=\"24px\">\n",
              "    <path d=\"M0 0h24v24H0V0z\" fill=\"none\"/>\n",
              "    <path d=\"M18.56 5.44l.94 2.06.94-2.06 2.06-.94-2.06-.94-.94-2.06-.94 2.06-2.06.94zm-11 1L8.5 8.5l.94-2.06 2.06-.94-2.06-.94L8.5 2.5l-.94 2.06-2.06.94zm10 10l.94 2.06.94-2.06 2.06-.94-2.06-.94-.94-2.06-.94 2.06-2.06.94z\"/><path d=\"M17.41 7.96l-1.37-1.37c-.4-.4-.92-.59-1.43-.59-.52 0-1.04.2-1.43.59L10.3 9.45l-7.72 7.72c-.78.78-.78 2.05 0 2.83L4 21.41c.39.39.9.59 1.41.59.51 0 1.02-.2 1.41-.59l7.78-7.78 2.81-2.81c.8-.78.8-2.07 0-2.86zM5.41 20L4 18.59l7.72-7.72 1.47 1.35L5.41 20z\"/>\n",
              "  </svg>\n",
              "      </button>\n",
              "      \n",
              "  <style>\n",
              "    .colab-df-container {\n",
              "      display:flex;\n",
              "      flex-wrap:wrap;\n",
              "      gap: 12px;\n",
              "    }\n",
              "\n",
              "    .colab-df-convert {\n",
              "      background-color: #E8F0FE;\n",
              "      border: none;\n",
              "      border-radius: 50%;\n",
              "      cursor: pointer;\n",
              "      display: none;\n",
              "      fill: #1967D2;\n",
              "      height: 32px;\n",
              "      padding: 0 0 0 0;\n",
              "      width: 32px;\n",
              "    }\n",
              "\n",
              "    .colab-df-convert:hover {\n",
              "      background-color: #E2EBFA;\n",
              "      box-shadow: 0px 1px 2px rgba(60, 64, 67, 0.3), 0px 1px 3px 1px rgba(60, 64, 67, 0.15);\n",
              "      fill: #174EA6;\n",
              "    }\n",
              "\n",
              "    [theme=dark] .colab-df-convert {\n",
              "      background-color: #3B4455;\n",
              "      fill: #D2E3FC;\n",
              "    }\n",
              "\n",
              "    [theme=dark] .colab-df-convert:hover {\n",
              "      background-color: #434B5C;\n",
              "      box-shadow: 0px 1px 3px 1px rgba(0, 0, 0, 0.15);\n",
              "      filter: drop-shadow(0px 1px 2px rgba(0, 0, 0, 0.3));\n",
              "      fill: #FFFFFF;\n",
              "    }\n",
              "  </style>\n",
              "\n",
              "      <script>\n",
              "        const buttonEl =\n",
              "          document.querySelector('#df-fa5d3a32-1a9f-4857-8f75-17f3d73bf136 button.colab-df-convert');\n",
              "        buttonEl.style.display =\n",
              "          google.colab.kernel.accessAllowed ? 'block' : 'none';\n",
              "\n",
              "        async function convertToInteractive(key) {\n",
              "          const element = document.querySelector('#df-fa5d3a32-1a9f-4857-8f75-17f3d73bf136');\n",
              "          const dataTable =\n",
              "            await google.colab.kernel.invokeFunction('convertToInteractive',\n",
              "                                                     [key], {});\n",
              "          if (!dataTable) return;\n",
              "\n",
              "          const docLinkHtml = 'Like what you see? Visit the ' +\n",
              "            '<a target=\"_blank\" href=https://colab.research.google.com/notebooks/data_table.ipynb>data table notebook</a>'\n",
              "            + ' to learn more about interactive tables.';\n",
              "          element.innerHTML = '';\n",
              "          dataTable['output_type'] = 'display_data';\n",
              "          await google.colab.output.renderOutput(dataTable, element);\n",
              "          const docLink = document.createElement('div');\n",
              "          docLink.innerHTML = docLinkHtml;\n",
              "          element.appendChild(docLink);\n",
              "        }\n",
              "      </script>\n",
              "    </div>\n",
              "  </div>\n",
              "  "
            ]
          },
          "metadata": {},
          "execution_count": 52
        }
      ]
    },
    {
      "cell_type": "code",
      "source": [
        "x_train = df_train[['MEI','N2O', 'TSI','Aerosols']]\n",
        "y_train = df_train['Temp']\n",
        "x2_train = sm.add_constant(x_train)\n",
        "est_train = sm.OLS(y_train,x2_train)\n",
        "est2_train = est_train.fit()\n",
        "print(est2_train.summary())"
      ],
      "metadata": {
        "colab": {
          "base_uri": "https://localhost:8080/"
        },
        "id": "k9L5x7gaEPPx",
        "outputId": "06d0472d-3ad5-4716-a5b8-ac625e422a35"
      },
      "execution_count": 53,
      "outputs": [
        {
          "output_type": "stream",
          "name": "stdout",
          "text": [
            "                            OLS Regression Results                            \n",
            "==============================================================================\n",
            "Dep. Variable:                   Temp   R-squared:                       0.706\n",
            "Model:                            OLS   Adj. R-squared:                  0.701\n",
            "Method:                 Least Squares   F-statistic:                     128.7\n",
            "Date:                Tue, 22 Nov 2022   Prob (F-statistic):           8.92e-56\n",
            "Time:                        09:27:09   Log-Likelihood:                 223.51\n",
            "No. Observations:                 219   AIC:                            -437.0\n",
            "Df Residuals:                     214   BIC:                            -420.1\n",
            "Df Model:                           4                                         \n",
            "Covariance Type:            nonrobust                                         \n",
            "==============================================================================\n",
            "                 coef    std err          t      P>|t|      [0.025      0.975]\n",
            "------------------------------------------------------------------------------\n",
            "const        -53.1366     23.146     -2.296      0.023     -98.759      -7.514\n",
            "MEI            0.0606      0.007      8.212      0.000       0.046       0.075\n",
            "N2O            0.0217      0.002     12.113      0.000       0.018       0.025\n",
            "TSI            0.0342      0.017      2.028      0.044       0.001       0.067\n",
            "Aerosols      -8.3714      1.995     -4.197      0.000     -12.303      -4.439\n",
            "==============================================================================\n",
            "Omnibus:                        9.543   Durbin-Watson:                   0.940\n",
            "Prob(Omnibus):                  0.008   Jarque-Bera (JB):               10.250\n",
            "Skew:                           0.407   Prob(JB):                      0.00595\n",
            "Kurtosis:                       3.678   Cond. No.                     5.45e+06\n",
            "==============================================================================\n",
            "\n",
            "Notes:\n",
            "[1] Standard Errors assume that the covariance matrix of the errors is correctly specified.\n",
            "[2] The condition number is large, 5.45e+06. This might indicate that there are\n",
            "strong multicollinearity or other numerical problems.\n"
          ]
        },
        {
          "output_type": "stream",
          "name": "stderr",
          "text": [
            "/usr/local/lib/python3.7/dist-packages/statsmodels/tsa/tsatools.py:142: FutureWarning: In a future version of pandas all arguments of concat except for the argument 'objs' will be keyword-only\n",
            "  x = pd.concat(x[::order], 1)\n"
          ]
        }
      ]
    },
    {
      "cell_type": "markdown",
      "source": [
        " ##3.1\n",
        "\n",
        " \n",
        " Enter the coefficient of N2O in this reduced model:  0.0217\n",
        "\n",
        "\n",
        " R-squared: 0.706"
      ],
      "metadata": {
        "id": "8uyY_5PpFGgG"
      }
    },
    {
      "cell_type": "code",
      "source": [
        "x_train = df_train[['MEI', 'CO2', 'TSI','Aerosols']]\n",
        "y_train = df_train['Temp']\n",
        "x2_train = sm.add_constant(x_train)\n",
        "est_train = sm.OLS(y_train,x2_train)\n",
        "est2_train = est_train.fit()\n",
        "print(est2_train.summary())"
      ],
      "metadata": {
        "colab": {
          "base_uri": "https://localhost:8080/"
        },
        "id": "GsJOhJypjz5Y",
        "outputId": "6f338d38-e942-44f5-fbb9-0dd73d549cfc"
      },
      "execution_count": 54,
      "outputs": [
        {
          "output_type": "stream",
          "name": "stdout",
          "text": [
            "                            OLS Regression Results                            \n",
            "==============================================================================\n",
            "Dep. Variable:                   Temp   R-squared:                       0.712\n",
            "Model:                            OLS   Adj. R-squared:                  0.707\n",
            "Method:                 Least Squares   F-statistic:                     132.2\n",
            "Date:                Tue, 22 Nov 2022   Prob (F-statistic):           1.13e-56\n",
            "Time:                        09:27:09   Log-Likelihood:                 225.63\n",
            "No. Observations:                 219   AIC:                            -441.3\n",
            "Df Residuals:                     214   BIC:                            -424.3\n",
            "Df Model:                           4                                         \n",
            "Covariance Type:            nonrobust                                         \n",
            "==============================================================================\n",
            "                 coef    std err          t      P>|t|      [0.025      0.975]\n",
            "------------------------------------------------------------------------------\n",
            "const        -57.0416     22.980     -2.482      0.014    -102.337     -11.746\n",
            "MEI            0.0601      0.007      8.218      0.000       0.046       0.074\n",
            "CO2            0.0091      0.001     12.401      0.000       0.008       0.011\n",
            "TSI            0.0396      0.017      2.360      0.019       0.007       0.073\n",
            "Aerosols      -8.6466      1.948     -4.438      0.000     -12.487      -4.806\n",
            "==============================================================================\n",
            "Omnibus:                        8.950   Durbin-Watson:                   0.981\n",
            "Prob(Omnibus):                  0.011   Jarque-Bera (JB):                8.972\n",
            "Skew:                           0.434   Prob(JB):                       0.0113\n",
            "Kurtosis:                       3.479   Cond. No.                     5.51e+06\n",
            "==============================================================================\n",
            "\n",
            "Notes:\n",
            "[1] Standard Errors assume that the covariance matrix of the errors is correctly specified.\n",
            "[2] The condition number is large, 5.51e+06. This might indicate that there are\n",
            "strong multicollinearity or other numerical problems.\n"
          ]
        },
        {
          "output_type": "stream",
          "name": "stderr",
          "text": [
            "/usr/local/lib/python3.7/dist-packages/statsmodels/tsa/tsatools.py:142: FutureWarning: In a future version of pandas all arguments of concat except for the argument 'objs' will be keyword-only\n",
            "  x = pd.concat(x[::order], 1)\n"
          ]
        }
      ]
    },
    {
      "cell_type": "markdown",
      "source": [
        "Conclusion:\n",
        "From the analysis of the results obtained from tests performed , I came to know that the variables 'CFC_12', 'Aerosols', 'CFC_11', 'MEI', 'TSI' are significant in the model i.e. their p-value is below 0.05.\n",
        "All of the gas concentration variables reflect human development - N2O and CFC.11 are correlated with other variables in the data set. To verify this, I tried removing/adding some of the variables and observed different values of coefficient indicating its dependence on values of coefficient of other variables."
      ],
      "metadata": {
        "id": "OKk8nB6Iq51G"
      }
    }
  ]
}